{
 "cells": [
  {
   "cell_type": "code",
   "execution_count": 1,
   "metadata": {},
   "outputs": [
    {
     "ename": "ModuleNotFoundError",
     "evalue": "No module named 'numpy'",
     "output_type": "error",
     "traceback": [
      "\u001b[0;31m---------------------------------------------------------------------------\u001b[0m",
      "\u001b[0;31mModuleNotFoundError\u001b[0m                       Traceback (most recent call last)",
      "\u001b[0;32m/var/folders/jk/h6nmt_0d3s3c6z5fh627zrhh0000gn/T/ipykernel_8794/1490988710.py\u001b[0m in \u001b[0;36m<module>\u001b[0;34m\u001b[0m\n\u001b[0;32m----> 1\u001b[0;31m \u001b[0;32mimport\u001b[0m \u001b[0mnumpy\u001b[0m\u001b[0;34m,\u001b[0m \u001b[0mrandom\u001b[0m\u001b[0;34m,\u001b[0m \u001b[0mmath\u001b[0m\u001b[0;34m\u001b[0m\u001b[0;34m\u001b[0m\u001b[0m\n\u001b[0m\u001b[1;32m      2\u001b[0m \u001b[0;32mfrom\u001b[0m \u001b[0mscipy\u001b[0m\u001b[0;34m.\u001b[0m\u001b[0moptimize\u001b[0m \u001b[0;32mimport\u001b[0m \u001b[0mminimize\u001b[0m\u001b[0;34m\u001b[0m\u001b[0;34m\u001b[0m\u001b[0m\n\u001b[1;32m      3\u001b[0m \u001b[0;32mimport\u001b[0m \u001b[0mmatplotlib\u001b[0m\u001b[0;34m.\u001b[0m\u001b[0mpyplot\u001b[0m \u001b[0;32mas\u001b[0m \u001b[0mplt\u001b[0m\u001b[0;34m\u001b[0m\u001b[0;34m\u001b[0m\u001b[0m\n",
      "\u001b[0;31mModuleNotFoundError\u001b[0m: No module named 'numpy'"
     ]
    }
   ],
   "source": [
    "import numpy, random, math\n",
    "from scipy.optimize import minimize\n",
    "import matplotlib.pyplot as plt"
   ]
  },
  {
   "cell_type": "code",
   "execution_count": null,
   "metadata": {},
   "outputs": [],
   "source": [
    "def kernel(x, y, kernel_func, p = 1, sigma = 1):\n",
    "    if (kernel_func == \"linear\"):\n",
    "        scalar = numpy.dot(x, y)\n",
    "    elif (kernel_func == \"poly\"):\n",
    "        scalar = (numpy.dot(x, y) + 1) ** p\n",
    "    elif(kernel_func == \"rbf\"):\n",
    "        scalar = math.exp(-(numpy.linalg.norm(x-y) ** 2) / (2 * sigma ** 2))\n",
    "    return scalar\n",
    "\n",
    "def make_matrix():\n",
    "    global P\n",
    "    P = []\n",
    "    for i in range(len(targets)):\n",
    "        P.append([target[i]*target[j]*kernel(inputs[i], inputs[j], \"linear\") for j in range(len(targets))])\n",
    "\n",
    "## Implementing equation 4\n",
    "## Should return a scalar\n",
    "def objective(vector_alpha):\n",
    "    scalar = 0.5 * numpy.sum(numpy.multiply(numpy.outer(vector_alpha, vector_alpha), P)) - numpy.sum(vector_alpha)\n",
    "    return scalar\n",
    "\n",
    "def zerofun(vector_alpha):\n",
    "    scalar = numpy.dot(vector_alpha, targets)\n",
    "    return scalar\n",
    "\n",
    "def main():\n",
    "    global targets, inputs\n",
    "    target = None\n",
    "    inputs = None\n",
    "\n",
    "    N = 5\n",
    "    B = #list of pairs stating the lower and upper bounds. same length as alpha.\n",
    "    XC={'type':'eq', 'fun':zerofun}\n",
    "    start = numpy.zeros(N) # N = number of training samples\n",
    "    # ret = minimize( objective , start ,bounds=B, constraints=XC)\n",
    "    # alpha = ret [ ’x ’ ]\n",
    "\n",
    "    print(start)\n",
    "\n",
    "main()"
   ]
  }
 ],
 "metadata": {
  "interpreter": {
   "hash": "aee8b7b246df8f9039afb4144a1f6fd8d2ca17a180786b69acc140d282b71a49"
  },
  "kernelspec": {
   "display_name": "Python 3.10.0 64-bit",
   "name": "python3"
  },
  "language_info": {
   "codemirror_mode": {
    "name": "ipython",
    "version": 3
   },
   "file_extension": ".py",
   "mimetype": "text/x-python",
   "name": "python",
   "nbconvert_exporter": "python",
   "pygments_lexer": "ipython3",
   "version": "3.10.0"
  },
  "orig_nbformat": 4
 },
 "nbformat": 4,
 "nbformat_minor": 2
}
