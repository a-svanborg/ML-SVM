{
 "cells": [
  {
   "cell_type": "code",
   "execution_count": 54,
   "source": [
    "import numpy, random, math\n",
    "from scipy.optimize import minimize\n",
    "import matplotlib.pyplot as plt"
   ],
   "outputs": [],
   "metadata": {}
  },
  {
   "cell_type": "code",
   "execution_count": 55,
   "source": [
    "\"\"\"\n",
    "TO DO LIST:\n",
    "Create a SVM classifier. Use transformation into higher dimension\n",
    "in order to separate data and to create an indicator function ind(s).\n",
    "Use dual formulation, kernel functions and slack variables.\n",
    "\n",
    "DONE 1. Define a suitable kernel function (a function which takes two data points as arguments and returns a scalar value)'\n",
    "   Start with the linear kernel function but explore all of the function in lab instruction section 3.3\n",
    "DONE 2. Define objective (a function which takes the α-vector as argument and returns a scalar value) \n",
    "   This function should effectively implement equation 4 in the lab instructions. NOTE THAT THIS FUNCTION WILL BE CALLED\n",
    "   SEVERAL HUNDRED TIMES, SO MAKE IT EFFICIENT. Define P as a global numpy array\n",
    "DONE 3. Define zerofun (zerofun is a function you have defined which calculates the value which\n",
    "   should be constrained to zero. Like objective, zerofun takes a vector as\n",
    "   argument and returns a scalar value. \n",
    "DONE 4. Define a function that creates the matrix P from the data points  \n",
    "DONE 5. Call minimize\n",
    "DONE 6. Extrac the non-zero α values (use 10^-5 as the limit). Save non zero α values with the corresponding data points xi and\n",
    "   target values ti in a separate data structure, for example a list.\n",
    "7. Calculate b (the bias) using equation 7 in lab instruction\n",
    "8. Implement the indicator function ind(s). ((equation 6) which uses the non-zero α values together with the corresponding\n",
    "   xi and ti to classify new points.\n",
    "9. Generate test data according to the lab instructions section 5\n",
    "10. Plot the data and the decision boundary according to section 6\n",
    "11. After completing above tasks with the linear kernel function, move on to questions under section 7.\n",
    "\"\"\" "
   ],
   "outputs": [
    {
     "output_type": "execute_result",
     "data": {
      "text/plain": [
       "\"\\nTO DO LIST:\\nCreate a SVM classifier. Use transformation into higher dimension\\nin order to separate data and to create an indicator function ind(s).\\nUse dual formulation, kernel functions and slack variables.\\n\\nDONE 1. Define a suitable kernel function (a function which takes two data points as arguments and returns a scalar value)'\\n   Start with the linear kernel function but explore all of the function in lab instruction section 3.3\\nDONE 2. Define objective (a function which takes the α-vector as argument and returns a scalar value) \\n   This function should effectively implement equation 4 in the lab instructions. NOTE THAT THIS FUNCTION WILL BE CALLED\\n   SEVERAL HUNDRED TIMES, SO MAKE IT EFFICIENT. Define P as a global numpy array\\nDONE 3. Define zerofun (zerofun is a function you have defined which calculates the value which\\n   should be constrained to zero. Like objective, zerofun takes a vector as\\n   argument and returns a scalar value. \\nDONE 4. Define a function that creates the matrix P from the data points  \\nDONE 5. Call minimize\\nDONE 6. Extrac the non-zero α values (use 10^-5 as the limit). Save non zero α values with the corresponding data points xi and\\n   target values ti in a separate data structure, for example a list.\\n7. Calculate b (the bias) using equation 7 in lab instruction\\n8. Implement the indicator function ind(s). ((equation 6) which uses the non-zero α values together with the corresponding\\n   xi and ti to classify new points.\\n9. Generate test data according to the lab instructions section 5\\n10. Plot the data and the decision boundary according to section 6\\n11. After completing above tasks with the linear kernel function, move on to questions under section 7.\\n\""
      ]
     },
     "metadata": {},
     "execution_count": 55
    }
   ],
   "metadata": {}
  },
  {
   "cell_type": "code",
   "execution_count": 68,
   "source": [
    "def kernel(x, y):\n",
    "    if (kernel_func == \"linear\"):\n",
    "        scalar = numpy.dot(x, y)\n",
    "    elif (kernel_func == \"poly\"):\n",
    "        scalar = (numpy.dot(x, y) + 1) ** p\n",
    "    elif(kernel_func == \"rbf\"):\n",
    "        scalar = math.exp(-(numpy.linalg.norm(x-y) ** 2) / (2 * sigma ** 2))\n",
    "    return scalar\n",
    "\n",
    "def make_matrix(targets, inputs):\n",
    "    # global P\n",
    "    P = []\n",
    "    for i in range(len(targets)):\n",
    "        P.append([targets[i]*targets[j]*kernel(inputs[i], inputs[j]) for j in range(len(targets))])\n",
    "    return P\n",
    "\n",
    "## Implementing equation 4\n",
    "## Should return a scalar\n",
    "def objective(vector_alpha):\n",
    "    scalar = 0.5 * numpy.sum(numpy.multiply(numpy.outer(vector_alpha, vector_alpha), P)) - numpy.sum(vector_alpha)\n",
    "    return scalar\n",
    "\n",
    "def zerofun(vector_alpha):\n",
    "    scalar = numpy.dot(vector_alpha, targets)\n",
    "    return scalar\n",
    "    \n",
    "def calculate_bias(low_threshold, C, alpha):\n",
    "    non_zero_index = [i for i in range(len(alpha)) if alpha[i] > low_threshold]\n",
    "\n",
    "    ## Chosse margin point aka Suport Vector\n",
    "    if C != None:\n",
    "        for i in range(len(non_zero_index)):\n",
    "            if alpha[non_zero_index[i]] < C:\n",
    "                margin_point_index = non_zero_index[i]\n",
    "                break\n",
    "    else:\n",
    "        margin_point_index = non_zero_index[0]\n",
    "\n",
    "    b = sum([alpha[i] * targets[i] * kernel(inputs[margin_point_index],inputs[i]) for i in range(len(alpha))]) - targets[margin_point_index]\n",
    "    return b\n",
    "\n",
    "def indicator(x, y):\n",
    "    return sum([alpha[i] * targets[i] * kernel([x, y], inputs[i]) for i in range(len(alpha))]) - b\n",
    "\n",
    "def genData():\n",
    "    numpy.random.seed(100) # TODO: Comment out\n",
    "    classA = numpy.concatenate((numpy.random.randn(10, 2) * 0.2 + [1.5, 0.5], numpy.random.randn(10, 2) * 0.2 + [-1.5, 0.5]))\n",
    "    classB = numpy.random.randn(20, 2) * 0.2 + [0.0 , -0.5]\n",
    "    inputs = numpy.concatenate((classA , classB))\n",
    "    targets = numpy.concatenate((numpy.ones(classA.shape[0]), -numpy.ones(classB.shape[0])))\n",
    "    N = inputs.shape[0] # Number of rows (samples)\n",
    "    permute = list(range(N)) \n",
    "    random.shuffle(permute)\n",
    "    inputs = inputs[permute, :]\n",
    "    targets = targets[permute]\n",
    "    return targets, inputs, classA, classB, N\n",
    "\n",
    "def do_my_plot(classA, classB):\n",
    "    plt.plot([p[0] for p in classA], [p[1] for p in classA], 'b.')\n",
    "    plt.plot([p[0] for p in classB], [p[1] for p in classB], 'r.')\n",
    "    plt.axis('equal')\n",
    "\n",
    "    xgrid= numpy.linspace(5,5)\n",
    "    ygrid = numpy.linspace(4,4)\n",
    "    grid = numpy.array([[indicator(x,y) for x in xgrid] for y in ygrid])\n",
    "    plt.contour(xgrid,ygrid,grid,(1.0,0.0,1.0), colors = ('red', 'black', 'blue'), linewidths=(1,3,1))\n",
    "\n",
    "\n",
    "\n",
    "    plt.savefig('svmplot.pdf')\n",
    "    plt.show()\n"
   ],
   "outputs": [],
   "metadata": {}
  },
  {
   "cell_type": "code",
   "execution_count": 71,
   "source": [
    "def main():\n",
    "    global targets, inputs, N, classA, classB, b, kernel_func, p, sigma, alpha\n",
    "\n",
    "    ## Step 1 initialize global variables\n",
    "    kernel_func = 'linear'\n",
    "    p = 1\n",
    "    sigma = 1\n",
    "    targets, inputs, classA, classB, N = genData()\n",
    "    P = make_matrix(targets, inputs)\n",
    "\n",
    "    # Easy plot TODO: Remove?\n",
    "    # do_my_plot(classA, classB)\n",
    "    \n",
    "\n",
    "    # Step 2 call minimize\n",
    "    C = None\n",
    "    B = [(0,C) for b in range(N)] #list of pairs stating the lower and upper bounds. same length as alpha.\n",
    "    XC={'type':'eq', 'fun':zerofun}\n",
    "    start = numpy.zeros(N) # N = number of training samples\n",
    "    ret = minimize(objective, start, bounds=B, constraints=XC) #TODO: how minimize works\n",
    "    alpha = ret['x']\n",
    "    print(ret['success'])\n",
    "    print(ret['message'])\n",
    "\n",
    "    #Step 3 Calculate bias\n",
    "    b = calculate_bias(10**(-5), C, alpha)\n",
    "    print(b)\n",
    "    #Step 4 Plot\n",
    "    do_my_plot(classA, classB)\n",
    "\n",
    "\n",
    "\n",
    "    # Save non-zeros\n",
    "    # non_zero_index = [i for i in range(len(alpha)) if alpha[i] > 10**(-5)]\n",
    "    # non_zero_alpha = [alpha[i] for i in non_zero_index]\n",
    "    # non_zero_data_points = [inputs[i] for i in non_zero_index]\n",
    "    # non_zero_target_values = [targets[i] for i in non_zero_index]\n",
    "    \n",
    "\n",
    "    # print(non_zero_index)\n",
    "    # print(non_zero_alpha)\n",
    "    # print(non_zero_data_points)\n",
    "    # print(non_zero_target_values)\n",
    "\n",
    "\n",
    "main()"
   ],
   "outputs": [
    {
     "output_type": "stream",
     "name": "stdout",
     "text": [
      "True\n",
      "Optimization terminated successfully\n",
      "-1.4474411394462385\n"
     ]
    },
    {
     "output_type": "stream",
     "name": "stderr",
     "text": [
      "/var/folders/31/jfz2198521qchs_6wjw0cyyr0000gn/T/ipykernel_36648/2267429604.py:66: UserWarning: No contour levels were found within the data range.\n",
      "  plt.contour(xgrid,ygrid,grid,(1.0,0.0,1.0), colors = ('red', 'black', 'blue'), linewidths=(1,3,1))\n"
     ]
    },
    {
     "output_type": "display_data",
     "data": {
      "image/png": "[encoded data removed]",
      "text/plain": [
       "<Figure size 432x288 with 1 Axes>"
      ]
     },
     "metadata": {
      "needs_background": "light"
     }
    }
   ],
   "metadata": {}
  }
 ],
 "metadata": {
  "interpreter": {
   "hash": "aee8b7b246df8f9039afb4144a1f6fd8d2ca17a180786b69acc140d282b71a49"
  },
  "kernelspec": {
   "name": "python3",
   "display_name": "Python 3.9.7 64-bit"
  },
  "language_info": {
   "codemirror_mode": {
    "name": "ipython",
    "version": 3
   },
   "file_extension": ".py",
   "mimetype": "text/x-python",
   "name": "python",
   "nbconvert_exporter": "python",
   "pygments_lexer": "ipython3",
   "version": "3.9.7"
  },
  "orig_nbformat": 4
 },
 "nbformat": 4,
 "nbformat_minor": 2
}